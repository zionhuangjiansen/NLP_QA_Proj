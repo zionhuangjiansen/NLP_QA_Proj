{
 "cells": [
  {
   "cell_type": "code",
   "execution_count": 1,
   "id": "040b0d26",
   "metadata": {},
   "outputs": [
    {
     "name": "stdout",
     "output_type": "stream",
     "text": [
      "7\n"
     ]
    }
   ],
   "source": [
    "### Lambda 表达式\n",
    "\n",
    "def add(x, y):\n",
    "    return x + y\n",
    "print(add(3, 4))"
   ]
  },
  {
   "cell_type": "code",
   "execution_count": 2,
   "id": "83a824aa",
   "metadata": {},
   "outputs": [
    {
     "data": {
      "text/plain": [
       "7"
      ]
     },
     "execution_count": 2,
     "metadata": {},
     "output_type": "execute_result"
    }
   ],
   "source": [
    "add_lambda = lambda x, y: x+y\n",
    "add_lambda(3,4)"
   ]
  },
  {
   "cell_type": "code",
   "execution_count": 3,
   "id": "36727843",
   "metadata": {},
   "outputs": [],
   "source": [
    "### 三元运算符"
   ]
  },
  {
   "cell_type": "code",
   "execution_count": 4,
   "id": "3c09e5a7",
   "metadata": {},
   "outputs": [
    {
     "ename": "SyntaxError",
     "evalue": "invalid syntax (2490476640.py, line 2)",
     "output_type": "error",
     "traceback": [
      "\u001b[0;36m  Cell \u001b[0;32mIn[4], line 2\u001b[0;36m\u001b[0m\n\u001b[0;31m    print(condition ? 1 : 2)\u001b[0m\n\u001b[0m                    ^\u001b[0m\n\u001b[0;31mSyntaxError\u001b[0m\u001b[0;31m:\u001b[0m invalid syntax\n"
     ]
    }
   ],
   "source": [
    "condition = True\n",
    "print(condition ? 1 : 2)"
   ]
  },
  {
   "cell_type": "code",
   "execution_count": 6,
   "id": "1be9a2f4",
   "metadata": {},
   "outputs": [],
   "source": [
    "### map函数的应用"
   ]
  },
  {
   "cell_type": "code",
   "execution_count": 7,
   "id": "58e1847d",
   "metadata": {},
   "outputs": [
    {
     "name": "stdout",
     "output_type": "stream",
     "text": [
      "[2, 4, 6, 8, 10]\n"
     ]
    }
   ],
   "source": [
    "list_1 =[1, 2, 3, 4, 5]\n",
    "r = map(lambda x: x+x, list_1)\n",
    "print(list(r))"
   ]
  },
  {
   "cell_type": "code",
   "execution_count": 8,
   "id": "32995ee0",
   "metadata": {},
   "outputs": [
    {
     "name": "stdout",
     "output_type": "stream",
     "text": [
      "[2, 6, 12, 20, 30]\n"
     ]
    }
   ],
   "source": [
    "m1 = map(lambda x, y: x*x + y, [1,2,3,4,5], [1,2,3,4,5])\n",
    "print(list(m1))"
   ]
  },
  {
   "cell_type": "code",
   "execution_count": 9,
   "id": "b08fed7a",
   "metadata": {},
   "outputs": [],
   "source": [
    "### filter 过滤器的应用"
   ]
  },
  {
   "cell_type": "code",
   "execution_count": 12,
   "id": "aba0b2cb",
   "metadata": {},
   "outputs": [
    {
     "name": "stdout",
     "output_type": "stream",
     "text": [
      "['hello', 'greedy', 'ai']\n"
     ]
    }
   ],
   "source": [
    "def is_not_none(s):\n",
    "    return s and len(s.strip()) > 0\n",
    "list_2 = [' ', '', 'hello', 'greedy', None, 'ai']\n",
    "result = filter(is_not_none, list_2)\n",
    "print(list(result))"
   ]
  },
  {
   "cell_type": "code",
   "execution_count": null,
   "id": "d2784678",
   "metadata": {},
   "outputs": [],
   "source": [
    "### reduce 函数"
   ]
  },
  {
   "cell_type": "code",
   "execution_count": 14,
   "id": "6f65038b",
   "metadata": {},
   "outputs": [
    {
     "name": "stdout",
     "output_type": "stream",
     "text": [
      "15\n"
     ]
    }
   ],
   "source": [
    "from functools import reduce\n",
    "f = lambda x, y: x + y\n",
    "r = reduce(f, [1,2,3,4,5])\n",
    "print(r)"
   ]
  },
  {
   "cell_type": "code",
   "execution_count": 15,
   "id": "17308265",
   "metadata": {},
   "outputs": [],
   "source": [
    "### 列表推导式"
   ]
  },
  {
   "cell_type": "code",
   "execution_count": 18,
   "id": "06aa1367",
   "metadata": {},
   "outputs": [
    {
     "name": "stdout",
     "output_type": "stream",
     "text": [
      "[1, 2, 3, 4, 5, 6]\n",
      "[1, 4, 9, 16, 25, 36]\n",
      "[16, 25, 36]\n"
     ]
    }
   ],
   "source": [
    "list_a = [1,2,3,4,5,6]\n",
    "f_m = map(lambda x: x+x, list_a)\n",
    "print(list(list_a))\n",
    "list_b = [i*i for i in list_a]\n",
    "print(list_b)\n",
    "\n",
    "# 有选择性的筛选\n",
    "list_c = [i*i for i in list_a if i > 3]\n",
    "print(list_c)"
   ]
  },
  {
   "cell_type": "code",
   "execution_count": 19,
   "id": "ec3f01c5",
   "metadata": {},
   "outputs": [],
   "source": [
    "### 集合推导式"
   ]
  },
  {
   "cell_type": "code",
   "execution_count": 20,
   "id": "d74d1d28",
   "metadata": {},
   "outputs": [
    {
     "name": "stdout",
     "output_type": "stream",
     "text": [
      "[1, 2, 3, 4, 5, 6]\n",
      "[1, 4, 9, 16, 25, 36]\n",
      "[16, 25, 36]\n"
     ]
    }
   ],
   "source": [
    "list_a = [1,2,3,4,5,6]\n",
    "f_m = map(lambda x: x+x, list_a)\n",
    "print(list(list_a))\n",
    "list_b = [i*i for i in list_a]\n",
    "print(list_b)\n",
    "\n",
    "# 有选择性的筛选\n",
    "list_c = [i*i for i in list_a if i > 3]\n",
    "print(list_c)"
   ]
  },
  {
   "cell_type": "code",
   "execution_count": 21,
   "id": "737e60aa",
   "metadata": {},
   "outputs": [],
   "source": [
    "### 字典推倒式"
   ]
  },
  {
   "cell_type": "code",
   "execution_count": 28,
   "id": "26c5932c",
   "metadata": {},
   "outputs": [
    {
     "name": "stdout",
     "output_type": "stream",
     "text": [
      "['zhangsan', 'lisi', 'wangwu']\n",
      "{20: 'zhangsan', 15: 'lisi', 31: 'wangwu'}\n",
      "{'zhangsan': 20, 'wangwu': 31}\n"
     ]
    }
   ],
   "source": [
    "s = {\n",
    "    \"zhangsan\": 20,\n",
    "    \"lisi\": 15,\n",
    "    \"wangwu\": 31\n",
    "}\n",
    "s_key = [key for key, value in s.items()]\n",
    "print(s_key)\n",
    "\n",
    "# key 和 value 颠倒\n",
    "s1 = {value: key for key, value in s.items()}\n",
    "print(s1)\n",
    "\n",
    "# 只拿出符合条件的值\n",
    "s2 = {key:value for key, value in s.items() if key != \"lisi\"}\n",
    "print(s2)"
   ]
  },
  {
   "cell_type": "code",
   "execution_count": 1,
   "id": "693e301d",
   "metadata": {},
   "outputs": [],
   "source": [
    "### 闭包: 一个返回值是函数的函数"
   ]
  },
  {
   "cell_type": "code",
   "execution_count": 4,
   "id": "d7dcc005",
   "metadata": {},
   "outputs": [
    {
     "name": "stdout",
     "output_type": "stream",
     "text": [
      "1681186754.4956548\n"
     ]
    }
   ],
   "source": [
    "# 调用后打印当前的时间\n",
    "import time \n",
    "def runtime():\n",
    "    def now_time():\n",
    "        print(time.time())\n",
    "    return now_time\n",
    "f = runtime() -> \n",
    "f()"
   ]
  },
  {
   "cell_type": "code",
   "execution_count": 5,
   "id": "683229a0",
   "metadata": {},
   "outputs": [],
   "source": [
    "cat data.csv"
   ]
  },
  {
   "cell_type": "code",
   "execution_count": 7,
   "id": "7e0f6709",
   "metadata": {},
   "outputs": [
    {
     "name": "stdout",
     "output_type": "stream",
     "text": [
      "[]\n"
     ]
    }
   ],
   "source": [
    "# 读出一个文件中带有某个关键字的行\n",
    "def make_filter(keep):\n",
    "    def the_filter(file_name):\n",
    "        file = open(file_name)\n",
    "        lines = file.readlines()\n",
    "        file.close()\n",
    "        filter_doc = [i for i in lines if keep in i]\n",
    "        return filter_doc\n",
    "    return the_filter\n",
    "\n",
    "filter_1 = make_filter(\"8\")\n",
    "filter_result = filter_1(\"data.csv\")\n",
    "print(filter_result)\n"
   ]
  },
  {
   "cell_type": "code",
   "execution_count": 8,
   "id": "1957653d",
   "metadata": {},
   "outputs": [],
   "source": [
    "### 装饰器 -> 语法糖 或者 注解 -> 语法糖 还是挺重要的 -> 可以把Python的函数写得更流畅"
   ]
  },
  {
   "cell_type": "code",
   "execution_count": 15,
   "id": "2af5847b",
   "metadata": {},
   "outputs": [
    {
     "name": "stdout",
     "output_type": "stream",
     "text": [
      "1681187917.2825222\n",
      "Time Run\n",
      "1681187917.283218\n",
      "Time Run 1\n",
      "1681187917.283308\n",
      "Time Run 2\n"
     ]
    }
   ],
   "source": [
    "# 获取函数运行的时间\n",
    "import time \n",
    "def runtime(func):\n",
    "    def get_time(*args, **kwargs):\n",
    "        print(time.time())\n",
    "        func(*args, **kwargs)\n",
    "    return get_time\n",
    "\n",
    "@runtime\n",
    "def time_run(i, j):\n",
    "    print(\"Time Run\")\n",
    "\n",
    "@runtime\n",
    "def time_run_1(*args, **kwargs):\n",
    "    print(\"Time Run 1\")\n",
    "\n",
    "# 如果被装饰的函数有参数\n",
    "@runtime\n",
    "def time_run_2():\n",
    "    print(\"Time Run 2\")\n",
    "\n",
    "time_run(1, 2)\n",
    "time_run_1(1, i=1, j=2)\n",
    "time_run_2()"
   ]
  },
  {
   "cell_type": "code",
   "execution_count": 16,
   "id": "56fa154c",
   "metadata": {},
   "outputs": [],
   "source": [
    "### numpy 和 pandas 相关 -> 相当于 numpy 是 pandas 的依赖\n",
    "### numpy 其实就是一个多维的数组对象"
   ]
  },
  {
   "cell_type": "code",
   "execution_count": 17,
   "id": "de249e00",
   "metadata": {},
   "outputs": [
    {
     "ename": "ImportError",
     "evalue": "\n\nIMPORTANT: PLEASE READ THIS FOR ADVICE ON HOW TO SOLVE THIS ISSUE!\n\nImporting the numpy C-extensions failed. This error can happen for\nmany reasons, often due to issues with your setup or how NumPy was\ninstalled.\n\nWe have compiled some common reasons and troubleshooting tips at:\n\n    https://numpy.org/devdocs/user/troubleshooting-importerror.html\n\nPlease note and check the following:\n\n  * The Python version is: Python3.9 from \"/Applications/Xcode.app/Contents/Developer/usr/bin/python3\"\n  * The NumPy version is: \"1.24.2\"\n\nand make sure that they are the versions you expect.\nPlease carefully study the documentation linked above for further help.\n\nOriginal error was: dlopen(/Users/huangjiansen/Library/Python/3.9/lib/python/site-packages/numpy/core/_multiarray_umath.cpython-39-darwin.so, 0x0002): tried: '/Users/huangjiansen/Library/Python/3.9/lib/python/site-packages/numpy/core/_multiarray_umath.cpython-39-darwin.so' (mach-o file, but is an incompatible architecture (have 'arm64', need 'x86_64')), '/System/Volumes/Preboot/Cryptexes/OS/Users/huangjiansen/Library/Python/3.9/lib/python/site-packages/numpy/core/_multiarray_umath.cpython-39-darwin.so' (no such file), '/Users/huangjiansen/Library/Python/3.9/lib/python/site-packages/numpy/core/_multiarray_umath.cpython-39-darwin.so' (mach-o file, but is an incompatible architecture (have 'arm64', need 'x86_64'))\n",
     "output_type": "error",
     "traceback": [
      "\u001b[0;31m---------------------------------------------------------------------------\u001b[0m",
      "\u001b[0;31mImportError\u001b[0m                               Traceback (most recent call last)",
      "File \u001b[0;32m~/Library/Python/3.9/lib/python/site-packages/numpy/core/__init__.py:23\u001b[0m\n\u001b[1;32m     22\u001b[0m \u001b[38;5;28;01mtry\u001b[39;00m:\n\u001b[0;32m---> 23\u001b[0m     \u001b[38;5;28;01mfrom\u001b[39;00m \u001b[38;5;21;01m.\u001b[39;00m \u001b[38;5;28;01mimport\u001b[39;00m multiarray\n\u001b[1;32m     24\u001b[0m \u001b[38;5;28;01mexcept\u001b[39;00m \u001b[38;5;167;01mImportError\u001b[39;00m \u001b[38;5;28;01mas\u001b[39;00m exc:\n",
      "File \u001b[0;32m~/Library/Python/3.9/lib/python/site-packages/numpy/core/multiarray.py:10\u001b[0m\n\u001b[1;32m      9\u001b[0m \u001b[38;5;28;01mimport\u001b[39;00m \u001b[38;5;21;01mfunctools\u001b[39;00m\n\u001b[0;32m---> 10\u001b[0m \u001b[38;5;28;01mfrom\u001b[39;00m \u001b[38;5;21;01m.\u001b[39;00m \u001b[38;5;28;01mimport\u001b[39;00m overrides\n\u001b[1;32m     11\u001b[0m \u001b[38;5;28;01mfrom\u001b[39;00m \u001b[38;5;21;01m.\u001b[39;00m \u001b[38;5;28;01mimport\u001b[39;00m _multiarray_umath\n",
      "File \u001b[0;32m~/Library/Python/3.9/lib/python/site-packages/numpy/core/overrides.py:6\u001b[0m\n\u001b[1;32m      4\u001b[0m \u001b[38;5;28;01mimport\u001b[39;00m \u001b[38;5;21;01mos\u001b[39;00m\n\u001b[0;32m----> 6\u001b[0m \u001b[38;5;28;01mfrom\u001b[39;00m \u001b[38;5;21;01mnumpy\u001b[39;00m\u001b[38;5;21;01m.\u001b[39;00m\u001b[38;5;21;01mcore\u001b[39;00m\u001b[38;5;21;01m.\u001b[39;00m\u001b[38;5;21;01m_multiarray_umath\u001b[39;00m \u001b[38;5;28;01mimport\u001b[39;00m (\n\u001b[1;32m      7\u001b[0m     add_docstring, implement_array_function, _get_implementing_args)\n\u001b[1;32m      8\u001b[0m \u001b[38;5;28;01mfrom\u001b[39;00m \u001b[38;5;21;01mnumpy\u001b[39;00m\u001b[38;5;21;01m.\u001b[39;00m\u001b[38;5;21;01mcompat\u001b[39;00m\u001b[38;5;21;01m.\u001b[39;00m\u001b[38;5;21;01m_inspect\u001b[39;00m \u001b[38;5;28;01mimport\u001b[39;00m getargspec\n",
      "\u001b[0;31mImportError\u001b[0m: dlopen(/Users/huangjiansen/Library/Python/3.9/lib/python/site-packages/numpy/core/_multiarray_umath.cpython-39-darwin.so, 0x0002): tried: '/Users/huangjiansen/Library/Python/3.9/lib/python/site-packages/numpy/core/_multiarray_umath.cpython-39-darwin.so' (mach-o file, but is an incompatible architecture (have 'arm64', need 'x86_64')), '/System/Volumes/Preboot/Cryptexes/OS/Users/huangjiansen/Library/Python/3.9/lib/python/site-packages/numpy/core/_multiarray_umath.cpython-39-darwin.so' (no such file), '/Users/huangjiansen/Library/Python/3.9/lib/python/site-packages/numpy/core/_multiarray_umath.cpython-39-darwin.so' (mach-o file, but is an incompatible architecture (have 'arm64', need 'x86_64'))",
      "\nDuring handling of the above exception, another exception occurred:\n",
      "\u001b[0;31mImportError\u001b[0m                               Traceback (most recent call last)",
      "Cell \u001b[0;32mIn[17], line 1\u001b[0m\n\u001b[0;32m----> 1\u001b[0m \u001b[38;5;28;01mimport\u001b[39;00m \u001b[38;5;21;01mnumpy\u001b[39;00m \u001b[38;5;28;01mas\u001b[39;00m \u001b[38;5;21;01mnp\u001b[39;00m\n\u001b[1;32m      2\u001b[0m data \u001b[38;5;241m=\u001b[39m [\u001b[38;5;241m1\u001b[39m,\u001b[38;5;241m2\u001b[39m,\u001b[38;5;241m3\u001b[39m,\u001b[38;5;241m4\u001b[39m,\u001b[38;5;241m5\u001b[39m]\n\u001b[1;32m      3\u001b[0m n \u001b[38;5;241m=\u001b[39m np\u001b[38;5;241m.\u001b[39marray(data \u001b[38;5;241m*\u001b[39m \u001b[38;5;241m10\u001b[39m)\n",
      "File \u001b[0;32m~/Library/Python/3.9/lib/python/site-packages/numpy/__init__.py:141\u001b[0m\n\u001b[1;32m    138\u001b[0m \u001b[38;5;66;03m# Allow distributors to run custom init code\u001b[39;00m\n\u001b[1;32m    139\u001b[0m \u001b[38;5;28;01mfrom\u001b[39;00m \u001b[38;5;21;01m.\u001b[39;00m \u001b[38;5;28;01mimport\u001b[39;00m _distributor_init\n\u001b[0;32m--> 141\u001b[0m \u001b[38;5;28;01mfrom\u001b[39;00m \u001b[38;5;21;01m.\u001b[39;00m \u001b[38;5;28;01mimport\u001b[39;00m core\n\u001b[1;32m    142\u001b[0m \u001b[38;5;28;01mfrom\u001b[39;00m \u001b[38;5;21;01m.\u001b[39;00m\u001b[38;5;21;01mcore\u001b[39;00m \u001b[38;5;28;01mimport\u001b[39;00m \u001b[38;5;241m*\u001b[39m\n\u001b[1;32m    143\u001b[0m \u001b[38;5;28;01mfrom\u001b[39;00m \u001b[38;5;21;01m.\u001b[39;00m \u001b[38;5;28;01mimport\u001b[39;00m compat\n",
      "File \u001b[0;32m~/Library/Python/3.9/lib/python/site-packages/numpy/core/__init__.py:49\u001b[0m\n\u001b[1;32m     25\u001b[0m     \u001b[38;5;28;01mimport\u001b[39;00m \u001b[38;5;21;01msys\u001b[39;00m\n\u001b[1;32m     26\u001b[0m     msg \u001b[38;5;241m=\u001b[39m \u001b[38;5;124m\"\"\"\u001b[39m\n\u001b[1;32m     27\u001b[0m \n\u001b[1;32m     28\u001b[0m \u001b[38;5;124mIMPORTANT: PLEASE READ THIS FOR ADVICE ON HOW TO SOLVE THIS ISSUE!\u001b[39m\n\u001b[0;32m   (...)\u001b[0m\n\u001b[1;32m     47\u001b[0m \u001b[38;5;124m\"\"\"\u001b[39m \u001b[38;5;241m%\u001b[39m (sys\u001b[38;5;241m.\u001b[39mversion_info[\u001b[38;5;241m0\u001b[39m], sys\u001b[38;5;241m.\u001b[39mversion_info[\u001b[38;5;241m1\u001b[39m], sys\u001b[38;5;241m.\u001b[39mexecutable,\n\u001b[1;32m     48\u001b[0m         __version__, exc)\n\u001b[0;32m---> 49\u001b[0m     \u001b[38;5;28;01mraise\u001b[39;00m \u001b[38;5;167;01mImportError\u001b[39;00m(msg)\n\u001b[1;32m     50\u001b[0m \u001b[38;5;28;01mfinally\u001b[39;00m:\n\u001b[1;32m     51\u001b[0m     \u001b[38;5;28;01mfor\u001b[39;00m envkey \u001b[38;5;129;01min\u001b[39;00m env_added:\n",
      "\u001b[0;31mImportError\u001b[0m: \n\nIMPORTANT: PLEASE READ THIS FOR ADVICE ON HOW TO SOLVE THIS ISSUE!\n\nImporting the numpy C-extensions failed. This error can happen for\nmany reasons, often due to issues with your setup or how NumPy was\ninstalled.\n\nWe have compiled some common reasons and troubleshooting tips at:\n\n    https://numpy.org/devdocs/user/troubleshooting-importerror.html\n\nPlease note and check the following:\n\n  * The Python version is: Python3.9 from \"/Applications/Xcode.app/Contents/Developer/usr/bin/python3\"\n  * The NumPy version is: \"1.24.2\"\n\nand make sure that they are the versions you expect.\nPlease carefully study the documentation linked above for further help.\n\nOriginal error was: dlopen(/Users/huangjiansen/Library/Python/3.9/lib/python/site-packages/numpy/core/_multiarray_umath.cpython-39-darwin.so, 0x0002): tried: '/Users/huangjiansen/Library/Python/3.9/lib/python/site-packages/numpy/core/_multiarray_umath.cpython-39-darwin.so' (mach-o file, but is an incompatible architecture (have 'arm64', need 'x86_64')), '/System/Volumes/Preboot/Cryptexes/OS/Users/huangjiansen/Library/Python/3.9/lib/python/site-packages/numpy/core/_multiarray_umath.cpython-39-darwin.so' (no such file), '/Users/huangjiansen/Library/Python/3.9/lib/python/site-packages/numpy/core/_multiarray_umath.cpython-39-darwin.so' (mach-o file, but is an incompatible architecture (have 'arm64', need 'x86_64'))\n"
     ]
    }
   ],
   "source": [
    "import numpy as np\n",
    "data = [1,2,3,4,5]\n",
    "n = np.array(data * 10)\n",
    "print(data)\n",
    "print(n)\n",
    "\n",
    "### 每一个 numpy 的数组 都有一个 shape 和一个 dtype 的方法\n",
    "n.shape # shape方法表示获取到np数组的维度(长度)\n",
    "n.dtype # dtype属性表示获取到数组的类型\n",
    "\n",
    "### 嵌套序列: 由一组等长列表组成的列表\n",
    "arr = [[1,2,3,4], [1,2,3,4]]\n",
    "arr2 = np.array(arr)\n",
    "print(arr2.ndim) # ndim代表了维度\n",
    "print(arr2.shape) # shape代表了每个维度的长度\n",
    "\n",
    "### np 对数据类型的一个判断\n",
    "arr = [['1', '2', 3, 4], [5,6,7,8]]\n",
    "arr2 = np.array(arr)\n",
    "print(arr2)\n",
    "print(arr2.dtype) # unicode类型\n",
    "\n",
    "arr3 = [[1,2,3,4,5], [5,6,7,8,9,10]]\n",
    "arr4 = np.array(arr3)\n",
    "print(arr4)\n",
    "print(arr4.dtype)\n",
    "\n",
    "### numpy进行指定长度数组的创建\n",
    "np.zeros(10)\n",
    "np.ones((2,3))\n",
    "np.empty((2,3,4))\n",
    "\n",
    "np.arrange(10) # arrange 是 range 函数的数组版本\n",
    "arr5 = np.array([1.2, 2, 3, 4, -2.3, -5.8, -5.9])\n",
    "print(arr5)\n",
    "print(arr5.dtype)\n",
    "print(arr5.astype(np.int32)) # astype会把数组里面的数据转换成指定的数据类型"
   ]
  },
  {
   "cell_type": "code",
   "execution_count": 18,
   "id": "28781506",
   "metadata": {},
   "outputs": [],
   "source": [
    "### numpy 的 矢量化\n",
    "### 数组通常不用再编写循环的情况下就可以进行批量运算\n",
    "### 其实可以直接在数组间进行运算"
   ]
  },
  {
   "cell_type": "code",
   "execution_count": 19,
   "id": "8fa74806",
   "metadata": {},
   "outputs": [
    {
     "ename": "NameError",
     "evalue": "name 'np' is not defined",
     "output_type": "error",
     "traceback": [
      "\u001b[0;31m---------------------------------------------------------------------------\u001b[0m",
      "\u001b[0;31mNameError\u001b[0m                                 Traceback (most recent call last)",
      "Cell \u001b[0;32mIn[19], line 1\u001b[0m\n\u001b[0;32m----> 1\u001b[0m arr1 \u001b[38;5;241m=\u001b[39m \u001b[43mnp\u001b[49m\u001b[38;5;241m.\u001b[39marray([\u001b[38;5;241m1\u001b[39m,\u001b[38;5;241m2\u001b[39m,\u001b[38;5;241m3\u001b[39m,\u001b[38;5;241m4\u001b[39m])\n\u001b[1;32m      2\u001b[0m arr2 \u001b[38;5;241m=\u001b[39m np\u001b[38;5;241m.\u001b[39marray([\u001b[38;5;241m5\u001b[39m,\u001b[38;5;241m6\u001b[39m,\u001b[38;5;241m7\u001b[39m,\u001b[38;5;241m8\u001b[39m])\n\u001b[1;32m      3\u001b[0m arr1\u001b[38;5;241m+\u001b[39marr2\n",
      "\u001b[0;31mNameError\u001b[0m: name 'np' is not defined"
     ]
    }
   ],
   "source": [
    "arr1 = np.array([1,2,3,4])\n",
    "arr2 = np.array([5,6,7,8])\n",
    "arr1+arr2\n",
    "\n",
    "arr3 = np.array([[1,2,3,4], [1,2,3,4]])\n",
    "arr4 = np.array([[5,6,7,8], [9,6,78]])\n",
    "arr3*arr4\n",
    "\n",
    "arr5 = np.array([[1,2,3,4], [1,2,3,4]])\n",
    "arr6 = np.array([[5,6,7,8], [9,6,78]])\n",
    "arr5-arr6"
   ]
  },
  {
   "cell_type": "code",
   "execution_count": 20,
   "id": "7dc38b6a",
   "metadata": {},
   "outputs": [],
   "source": [
    "### numpy 的索引和切片操作"
   ]
  },
  {
   "cell_type": "code",
   "execution_count": 21,
   "id": "cfd2bfac",
   "metadata": {},
   "outputs": [
    {
     "ename": "NameError",
     "evalue": "name 'np' is not defined",
     "output_type": "error",
     "traceback": [
      "\u001b[0;31m---------------------------------------------------------------------------\u001b[0m",
      "\u001b[0;31mNameError\u001b[0m                                 Traceback (most recent call last)",
      "Cell \u001b[0;32mIn[21], line 1\u001b[0m\n\u001b[0;32m----> 1\u001b[0m arr \u001b[38;5;241m=\u001b[39m \u001b[43mnp\u001b[49m\u001b[38;5;241m.\u001b[39marrange(\u001b[38;5;241m10\u001b[39m)\n\u001b[1;32m      2\u001b[0m \u001b[38;5;28mprint\u001b[39m(arr)\n",
      "\u001b[0;31mNameError\u001b[0m: name 'np' is not defined"
     ]
    }
   ],
   "source": [
    "arr = np.arrange(10)\n",
    "print(arr)\n",
    "print(arr[1])\n",
    "print(arr[4:])\n",
    "\n",
    "arr[0:4] = 11\n",
    "print(arr)"
   ]
  },
  {
   "cell_type": "code",
   "execution_count": 22,
   "id": "023c3675",
   "metadata": {},
   "outputs": [],
   "source": [
    "### 一个二维数组的访问方式"
   ]
  },
  {
   "cell_type": "code",
   "execution_count": 23,
   "id": "67c962a3",
   "metadata": {},
   "outputs": [
    {
     "ename": "NameError",
     "evalue": "name 'np' is not defined",
     "output_type": "error",
     "traceback": [
      "\u001b[0;31m---------------------------------------------------------------------------\u001b[0m",
      "\u001b[0;31mNameError\u001b[0m                                 Traceback (most recent call last)",
      "Cell \u001b[0;32mIn[23], line 1\u001b[0m\n\u001b[0;32m----> 1\u001b[0m arr1 \u001b[38;5;241m=\u001b[39m \u001b[43mnp\u001b[49m\u001b[38;5;241m.\u001b[39marray([\u001b[38;5;241m1\u001b[39m,\u001b[38;5;241m2\u001b[39m,\u001b[38;5;241m3\u001b[39m], [\u001b[38;5;241m4\u001b[39m,\u001b[38;5;241m5\u001b[39m,\u001b[38;5;241m6\u001b[39m])\n\u001b[1;32m      2\u001b[0m \u001b[38;5;28mprint\u001b[39m(arr[\u001b[38;5;241m0\u001b[39m][\u001b[38;5;241m1\u001b[39m])\n\u001b[1;32m      3\u001b[0m \u001b[38;5;28mprint\u001b[39m(arr[\u001b[38;5;241m0\u001b[39m,\u001b[38;5;241m1\u001b[39m])\n",
      "\u001b[0;31mNameError\u001b[0m: name 'np' is not defined"
     ]
    }
   ],
   "source": [
    "arr1 = np.array([1,2,3], [4,5,6])\n",
    "print(arr[0][1])\n",
    "print(arr[0,1])\n",
    "\n",
    "np.array(['Tony', 'Jack', 'Robin'])\n",
    "print(names == 'Tony') # np 会把里面的数值进行挨个比较\n",
    "print(names == 'Tony' & names == 'Robin')"
   ]
  },
  {
   "cell_type": "code",
   "execution_count": 24,
   "id": "784246a3",
   "metadata": {},
   "outputs": [],
   "source": [
    "### numpy 的花式索引 \"Fancy Indexing\" 它是一个Numpy中的属于，指的是利用整数数组进行索引"
   ]
  },
  {
   "cell_type": "code",
   "execution_count": 25,
   "id": "799fdedd",
   "metadata": {},
   "outputs": [
    {
     "ename": "NameError",
     "evalue": "name 'np' is not defined",
     "output_type": "error",
     "traceback": [
      "\u001b[0;31m---------------------------------------------------------------------------\u001b[0m",
      "\u001b[0;31mNameError\u001b[0m                                 Traceback (most recent call last)",
      "Cell \u001b[0;32mIn[25], line 1\u001b[0m\n\u001b[0;32m----> 1\u001b[0m arr \u001b[38;5;241m=\u001b[39m \u001b[43mnp\u001b[49m\u001b[38;5;241m.\u001b[39mempty((\u001b[38;5;241m8\u001b[39m,\u001b[38;5;241m4\u001b[39m))\n\u001b[1;32m      2\u001b[0m \u001b[38;5;28;01mfor\u001b[39;00m i \u001b[38;5;129;01min\u001b[39;00m \u001b[38;5;28mrange\u001b[39m(\u001b[38;5;241m8\u001b[39m):\n\u001b[1;32m      3\u001b[0m     arr[i] \u001b[38;5;241m=\u001b[39m i\n",
      "\u001b[0;31mNameError\u001b[0m: name 'np' is not defined"
     ]
    }
   ],
   "source": [
    "arr = np.empty((8,4))\n",
    "for i in range(8):\n",
    "    arr[i] = i\n",
    "print(arr[[4,3,0,6]])\n",
    "# 以一个特定顺讯来选取行中的子集，我们传入一个用于指定顺序的整数列表 或 数组\n",
    "# 这里也可以用负数索引从末尾获取"
   ]
  },
  {
   "cell_type": "code",
   "execution_count": 26,
   "id": "d0ce7024",
   "metadata": {},
   "outputs": [],
   "source": [
    "### numpy的数组转置和轴兑换\n",
    "### 转置就是重塑数组的一种特殊形式，常用的方法T和Transpose"
   ]
  },
  {
   "cell_type": "code",
   "execution_count": 27,
   "id": "92e531e0",
   "metadata": {},
   "outputs": [
    {
     "ename": "NameError",
     "evalue": "name 'np' is not defined",
     "output_type": "error",
     "traceback": [
      "\u001b[0;31m---------------------------------------------------------------------------\u001b[0m",
      "\u001b[0;31mNameError\u001b[0m                                 Traceback (most recent call last)",
      "Cell \u001b[0;32mIn[27], line 1\u001b[0m\n\u001b[0;32m----> 1\u001b[0m arr \u001b[38;5;241m=\u001b[39m \u001b[43mnp\u001b[49m\u001b[38;5;241m.\u001b[39marrange(\u001b[38;5;241m15\u001b[39m)\u001b[38;5;241m.\u001b[39mreshape((\u001b[38;5;241m3\u001b[39m,\u001b[38;5;241m5\u001b[39m))\n\u001b[1;32m      2\u001b[0m \u001b[38;5;28mprint\u001b[39m(arr)\n\u001b[1;32m      3\u001b[0m \u001b[38;5;28mprint\u001b[39m(arr\u001b[38;5;241m.\u001b[39mtranspose())\n",
      "\u001b[0;31mNameError\u001b[0m: name 'np' is not defined"
     ]
    }
   ],
   "source": [
    "arr = np.arrange(15).reshape((3,5))\n",
    "print(arr)\n",
    "print(arr.transpose())\n",
    "print(arr.T)\n",
    "\n",
    "arr2 = np.arrange(24).reshape((2,3,4))\n",
    "print(arr2)\n",
    "print(arr2.transpose((1,2,0)))"
   ]
  },
  {
   "cell_type": "code",
   "execution_count": 29,
   "id": "065e406f",
   "metadata": {},
   "outputs": [],
   "source": [
    "### 条件逻辑转数组\n",
    "### np.where 等同于 x if condition else y 的矢量化的一个版本\n",
    "### x if condition else y 表示的意思是当条件condition成立时，表达式的返回值是x，不成立时的返回值是y\n",
    "### np.where 的写法 一般用于根据一格数组产生一格新的数组，跟python中函数式编程中的 map, reduce等函数类似"
   ]
  },
  {
   "cell_type": "code",
   "execution_count": 30,
   "id": "fcf664a2",
   "metadata": {},
   "outputs": [
    {
     "ename": "NameError",
     "evalue": "name 'np' is not defined",
     "output_type": "error",
     "traceback": [
      "\u001b[0;31m---------------------------------------------------------------------------\u001b[0m",
      "\u001b[0;31mNameError\u001b[0m                                 Traceback (most recent call last)",
      "Cell \u001b[0;32mIn[30], line 1\u001b[0m\n\u001b[0;32m----> 1\u001b[0m x_arr \u001b[38;5;241m=\u001b[39m \u001b[43mnp\u001b[49m\u001b[38;5;241m.\u001b[39marray([\u001b[38;5;241m1.1\u001b[39m, \u001b[38;5;241m1.2\u001b[39m, \u001b[38;5;241m1.3\u001b[39m])\n\u001b[1;32m      2\u001b[0m y_arr \u001b[38;5;241m=\u001b[39m np\u001b[38;5;241m.\u001b[39marray([\u001b[38;5;241m2.1\u001b[39m, \u001b[38;5;241m2.2\u001b[39m, \u001b[38;5;241m2.3\u001b[39m])\n\u001b[1;32m      3\u001b[0m condition \u001b[38;5;241m=\u001b[39m np\u001b[38;5;241m.\u001b[39marray([\u001b[38;5;28;01mTrue\u001b[39;00m, \u001b[38;5;28;01mFalse\u001b[39;00m, \u001b[38;5;28;01mTrue\u001b[39;00m])\n",
      "\u001b[0;31mNameError\u001b[0m: name 'np' is not defined"
     ]
    }
   ],
   "source": [
    "x_arr = np.array([1.1, 1.2, 1.3])\n",
    "y_arr = np.array([2.1, 2.2, 2.3])\n",
    "condition = np.array([True, False, True])\n",
    "result = [(x if c else y for x,y,c in zip(x_arr, y_arr, condition))]\n",
    "### zip 接收的参数就是可迭代(iterate)的对象\n",
    "### zip()函数用于将可迭代的对象作为参数，将对象中对应的元素打包成为一个个元组，然后返回由这些元组组成的列表\n",
    "print(result)"
   ]
  },
  {
   "cell_type": "code",
   "execution_count": 31,
   "id": "26fcd328",
   "metadata": {},
   "outputs": [],
   "source": [
    "### numpy的数学运算 -> 常用 sum, mean, std"
   ]
  },
  {
   "cell_type": "code",
   "execution_count": 32,
   "id": "f64fd5af",
   "metadata": {},
   "outputs": [
    {
     "ename": "NameError",
     "evalue": "name 'np' is not defined",
     "output_type": "error",
     "traceback": [
      "\u001b[0;31m---------------------------------------------------------------------------\u001b[0m",
      "\u001b[0;31mNameError\u001b[0m                                 Traceback (most recent call last)",
      "Cell \u001b[0;32mIn[32], line 1\u001b[0m\n\u001b[0;32m----> 1\u001b[0m arr \u001b[38;5;241m=\u001b[39m \u001b[43mnp\u001b[49m\u001b[38;5;241m.\u001b[39mrandom\u001b[38;5;241m.\u001b[39mrandn(\u001b[38;5;241m4\u001b[39m, \u001b[38;5;241m4\u001b[39m)\n\u001b[1;32m      2\u001b[0m \u001b[38;5;28mprint\u001b[39m(arr)\n\u001b[1;32m      3\u001b[0m \u001b[38;5;28mprint\u001b[39m(arr\u001b[38;5;241m.\u001b[39mmean)\n",
      "\u001b[0;31mNameError\u001b[0m: name 'np' is not defined"
     ]
    }
   ],
   "source": [
    "arr = np.random.randn(4, 4)\n",
    "print(arr)\n",
    "print(arr.mean)\n",
    "print(np.mean(arr))\n",
    "print(arr.std())"
   ]
  },
  {
   "cell_type": "code",
   "execution_count": 33,
   "id": "74a72f8f",
   "metadata": {},
   "outputs": [],
   "source": [
    "### numpy的文件操作 -> numpy可以读写磁盘文件上的文本数据或者是二进制数据 \n",
    "### 主要应用的函数就是np.save() 和 np.load()，默认情况下数据就是以未压缩的原始二进制格式保存在扩展名为.npy的文件中"
   ]
  },
  {
   "cell_type": "code",
   "execution_count": 34,
   "id": "6e18a948",
   "metadata": {},
   "outputs": [
    {
     "ename": "NameError",
     "evalue": "name 'np' is not defined",
     "output_type": "error",
     "traceback": [
      "\u001b[0;31m---------------------------------------------------------------------------\u001b[0m",
      "\u001b[0;31mNameError\u001b[0m                                 Traceback (most recent call last)",
      "Cell \u001b[0;32mIn[34], line 1\u001b[0m\n\u001b[0;32m----> 1\u001b[0m arr \u001b[38;5;241m=\u001b[39m \u001b[43mnp\u001b[49m\u001b[38;5;241m.\u001b[39marrange(\u001b[38;5;241m10\u001b[39m)\n\u001b[1;32m      2\u001b[0m \u001b[38;5;28mprint\u001b[39m(arr)\n\u001b[1;32m      3\u001b[0m np\u001b[38;5;241m.\u001b[39msave(\u001b[38;5;124m'\u001b[39m\u001b[38;5;124many_array\u001b[39m\u001b[38;5;124m'\u001b[39m, arr)\n",
      "\u001b[0;31mNameError\u001b[0m: name 'np' is not defined"
     ]
    }
   ],
   "source": [
    "arr = np.arrange(10)\n",
    "print(arr)\n",
    "np.save('any_array', arr)\n",
    "np.load('any_array.npy')\n",
    "\n",
    "arr_2 = np.arrange(10)\n",
    "np.save('any_array', a=arr)\n",
    "np.load('any_array.npz')['a']"
   ]
  },
  {
   "cell_type": "code",
   "execution_count": 36,
   "id": "5f346bc0",
   "metadata": {},
   "outputs": [],
   "source": [
    "### numpy 线性代数 \n",
    "### .dot() 矩阵的乘法运算\n",
    "### .trace() 计算对角线元素\n",
    "### .det() 计算矩阵的行列式\n",
    "### .eig() 计算方针的本征值 和 本征向量 \n",
    "### .inv() 计算方针的逆"
   ]
  },
  {
   "cell_type": "code",
   "execution_count": 37,
   "id": "c80e035e",
   "metadata": {},
   "outputs": [
    {
     "ename": "NameError",
     "evalue": "name 'np' is not defined",
     "output_type": "error",
     "traceback": [
      "\u001b[0;31m---------------------------------------------------------------------------\u001b[0m",
      "\u001b[0;31mNameError\u001b[0m                                 Traceback (most recent call last)",
      "Cell \u001b[0;32mIn[37], line 1\u001b[0m\n\u001b[0;32m----> 1\u001b[0m x \u001b[38;5;241m=\u001b[39m \u001b[43mnp\u001b[49m\u001b[38;5;241m.\u001b[39marray([\u001b[38;5;241m1\u001b[39m,\u001b[38;5;241m2\u001b[39m,\u001b[38;5;241m3\u001b[39m], [\u001b[38;5;241m4\u001b[39m,\u001b[38;5;241m5\u001b[39m,\u001b[38;5;241m6\u001b[39m])\n\u001b[1;32m      2\u001b[0m y \u001b[38;5;241m=\u001b[39m np\u001b[38;5;241m.\u001b[39marray([\u001b[38;5;241m1\u001b[39m,\u001b[38;5;241m2\u001b[39m], [\u001b[38;5;241m3\u001b[39m,\u001b[38;5;241m4\u001b[39m], [\u001b[38;5;241m5\u001b[39m,\u001b[38;5;241m6\u001b[39m])\n\u001b[1;32m      3\u001b[0m \u001b[38;5;28mprint\u001b[39m(x\u001b[38;5;241m.\u001b[39mdot(y))\n",
      "\u001b[0;31mNameError\u001b[0m: name 'np' is not defined"
     ]
    }
   ],
   "source": [
    "x = np.array([1,2,3], [4,5,6])\n",
    "y = np.array([1,2], [3,4], [5,6])\n",
    "print(x.dot(y))"
   ]
  },
  {
   "cell_type": "code",
   "execution_count": 38,
   "id": "7acf32cf",
   "metadata": {},
   "outputs": [
    {
     "ename": "NameError",
     "evalue": "name 'steps' is not defined",
     "output_type": "error",
     "traceback": [
      "\u001b[0;31m---------------------------------------------------------------------------\u001b[0m",
      "\u001b[0;31mNameError\u001b[0m                                 Traceback (most recent call last)",
      "Cell \u001b[0;32mIn[38], line 5\u001b[0m\n\u001b[1;32m      3\u001b[0m walk \u001b[38;5;241m=\u001b[39m [position] \n\u001b[1;32m      4\u001b[0m stops \u001b[38;5;241m=\u001b[39m \u001b[38;5;241m1000\u001b[39m \n\u001b[0;32m----> 5\u001b[0m \u001b[38;5;28;01mfor\u001b[39;00m i \u001b[38;5;129;01min\u001b[39;00m \u001b[38;5;28mrange\u001b[39m(\u001b[43msteps\u001b[49m):\n\u001b[1;32m      6\u001b[0m     step \u001b[38;5;241m=\u001b[39m \u001b[38;5;241m1\u001b[39m \u001b[38;5;28;01mif\u001b[39;00m np\u001b[38;5;241m.\u001b[39mrandom\u001b[38;5;241m.\u001b[39mrandint(\u001b[38;5;241m0\u001b[39m, \u001b[38;5;241m2\u001b[39m) \u001b[38;5;28;01melse\u001b[39;00m \u001b[38;5;241m-\u001b[39m\u001b[38;5;241m1\u001b[39m\n\u001b[1;32m      7\u001b[0m     position \u001b[38;5;241m+\u001b[39m\u001b[38;5;241m=\u001b[39m step \n",
      "\u001b[0;31mNameError\u001b[0m: name 'steps' is not defined"
     ]
    }
   ],
   "source": [
    "### 随机漫步的例子\n",
    "position = 0\n",
    "walk = [position] \n",
    "steps = 1000 \n",
    "for i in range(steps):\n",
    "    step = 1 if np.random.randint(0, 2) else -1\n",
    "    position += step \n",
    "    walk.append(position)\n",
    "plt.plot(walk)\n",
    "print((np.abs(walk) > 10).argmax())"
   ]
  },
  {
   "cell_type": "code",
   "execution_count": null,
   "id": "1dc814e5",
   "metadata": {},
   "outputs": [],
   "source": []
  }
 ],
 "metadata": {
  "kernelspec": {
   "display_name": "Python 3 (ipykernel)",
   "language": "python",
   "name": "python3"
  },
  "language_info": {
   "codemirror_mode": {
    "name": "ipython",
    "version": 3
   },
   "file_extension": ".py",
   "mimetype": "text/x-python",
   "name": "python",
   "nbconvert_exporter": "python",
   "pygments_lexer": "ipython3",
   "version": "3.9.6"
  }
 },
 "nbformat": 4,
 "nbformat_minor": 5
}
