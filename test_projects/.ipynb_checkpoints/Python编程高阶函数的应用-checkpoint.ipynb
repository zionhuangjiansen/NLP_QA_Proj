{
 "cells": [
  {
   "cell_type": "code",
   "execution_count": 1,
   "id": "040b0d26",
   "metadata": {},
   "outputs": [
    {
     "name": "stdout",
     "output_type": "stream",
     "text": [
      "7\n"
     ]
    }
   ],
   "source": [
    "### Lambda 表达式\n",
    "\n",
    "def add(x, y):\n",
    "    return x + y\n",
    "print(add(3, 4))"
   ]
  },
  {
   "cell_type": "code",
   "execution_count": 2,
   "id": "83a824aa",
   "metadata": {},
   "outputs": [
    {
     "data": {
      "text/plain": [
       "7"
      ]
     },
     "execution_count": 2,
     "metadata": {},
     "output_type": "execute_result"
    }
   ],
   "source": [
    "add_lambda = lambda x, y: x+y\n",
    "add_lambda(3,4)"
   ]
  },
  {
   "cell_type": "code",
   "execution_count": 3,
   "id": "36727843",
   "metadata": {},
   "outputs": [],
   "source": [
    "### 三元运算符"
   ]
  },
  {
   "cell_type": "code",
   "execution_count": 4,
   "id": "3c09e5a7",
   "metadata": {},
   "outputs": [
    {
     "ename": "SyntaxError",
     "evalue": "invalid syntax (2490476640.py, line 2)",
     "output_type": "error",
     "traceback": [
      "\u001b[0;36m  Cell \u001b[0;32mIn[4], line 2\u001b[0;36m\u001b[0m\n\u001b[0;31m    print(condition ? 1 : 2)\u001b[0m\n\u001b[0m                    ^\u001b[0m\n\u001b[0;31mSyntaxError\u001b[0m\u001b[0;31m:\u001b[0m invalid syntax\n"
     ]
    }
   ],
   "source": [
    "condition = True\n",
    "print(condition ? 1 : 2)"
   ]
  },
  {
   "cell_type": "code",
   "execution_count": 6,
   "id": "1be9a2f4",
   "metadata": {},
   "outputs": [],
   "source": [
    "### map函数的应用"
   ]
  },
  {
   "cell_type": "code",
   "execution_count": 7,
   "id": "58e1847d",
   "metadata": {},
   "outputs": [
    {
     "name": "stdout",
     "output_type": "stream",
     "text": [
      "[2, 4, 6, 8, 10]\n"
     ]
    }
   ],
   "source": [
    "list_1 =[1, 2, 3, 4, 5]\n",
    "r = map(lambda x: x+x, list_1)\n",
    "print(list(r))"
   ]
  },
  {
   "cell_type": "code",
   "execution_count": 8,
   "id": "32995ee0",
   "metadata": {},
   "outputs": [
    {
     "name": "stdout",
     "output_type": "stream",
     "text": [
      "[2, 6, 12, 20, 30]\n"
     ]
    }
   ],
   "source": [
    "m1 = map(lambda x, y: x*x + y, [1,2,3,4,5], [1,2,3,4,5])\n",
    "print(list(m1))"
   ]
  },
  {
   "cell_type": "code",
   "execution_count": 9,
   "id": "b08fed7a",
   "metadata": {},
   "outputs": [],
   "source": [
    "### filter 过滤器的应用"
   ]
  },
  {
   "cell_type": "code",
   "execution_count": 12,
   "id": "aba0b2cb",
   "metadata": {},
   "outputs": [
    {
     "name": "stdout",
     "output_type": "stream",
     "text": [
      "['hello', 'greedy', 'ai']\n"
     ]
    }
   ],
   "source": [
    "def is_not_none(s):\n",
    "    return s and len(s.strip()) > 0\n",
    "list_2 = [' ', '', 'hello', 'greedy', None, 'ai']\n",
    "result = filter(is_not_none, list_2)\n",
    "print(list(result))"
   ]
  },
  {
   "cell_type": "code",
   "execution_count": null,
   "id": "d2784678",
   "metadata": {},
   "outputs": [],
   "source": [
    "### reduce 函数"
   ]
  },
  {
   "cell_type": "code",
   "execution_count": 14,
   "id": "6f65038b",
   "metadata": {},
   "outputs": [
    {
     "name": "stdout",
     "output_type": "stream",
     "text": [
      "15\n"
     ]
    }
   ],
   "source": [
    "from functools import reduce\n",
    "f = lambda x, y: x + y\n",
    "r = reduce(f, [1,2,3,4,5])\n",
    "print(r)"
   ]
  },
  {
   "cell_type": "code",
   "execution_count": 15,
   "id": "17308265",
   "metadata": {},
   "outputs": [],
   "source": [
    "### 列表推导式"
   ]
  },
  {
   "cell_type": "code",
   "execution_count": 18,
   "id": "06aa1367",
   "metadata": {},
   "outputs": [
    {
     "name": "stdout",
     "output_type": "stream",
     "text": [
      "[1, 2, 3, 4, 5, 6]\n",
      "[1, 4, 9, 16, 25, 36]\n",
      "[16, 25, 36]\n"
     ]
    }
   ],
   "source": [
    "list_a = [1,2,3,4,5,6]\n",
    "f_m = map(lambda x: x+x, list_a)\n",
    "print(list(list_a))\n",
    "list_b = [i*i for i in list_a]\n",
    "print(list_b)\n",
    "\n",
    "# 有选择性的筛选\n",
    "list_c = [i*i for i in list_a if i > 3]\n",
    "print(list_c)"
   ]
  },
  {
   "cell_type": "code",
   "execution_count": 19,
   "id": "ec3f01c5",
   "metadata": {},
   "outputs": [],
   "source": [
    "### 集合推导式"
   ]
  },
  {
   "cell_type": "code",
   "execution_count": 20,
   "id": "d74d1d28",
   "metadata": {},
   "outputs": [
    {
     "name": "stdout",
     "output_type": "stream",
     "text": [
      "[1, 2, 3, 4, 5, 6]\n",
      "[1, 4, 9, 16, 25, 36]\n",
      "[16, 25, 36]\n"
     ]
    }
   ],
   "source": [
    "list_a = [1,2,3,4,5,6]\n",
    "f_m = map(lambda x: x+x, list_a)\n",
    "print(list(list_a))\n",
    "list_b = [i*i for i in list_a]\n",
    "print(list_b)\n",
    "\n",
    "# 有选择性的筛选\n",
    "list_c = [i*i for i in list_a if i > 3]\n",
    "print(list_c)"
   ]
  },
  {
   "cell_type": "code",
   "execution_count": 21,
   "id": "737e60aa",
   "metadata": {},
   "outputs": [],
   "source": [
    "### 字典推倒式"
   ]
  },
  {
   "cell_type": "code",
   "execution_count": 28,
   "id": "26c5932c",
   "metadata": {},
   "outputs": [
    {
     "name": "stdout",
     "output_type": "stream",
     "text": [
      "['zhangsan', 'lisi', 'wangwu']\n",
      "{20: 'zhangsan', 15: 'lisi', 31: 'wangwu'}\n",
      "{'zhangsan': 20, 'wangwu': 31}\n"
     ]
    }
   ],
   "source": [
    "s = {\n",
    "    \"zhangsan\": 20,\n",
    "    \"lisi\": 15,\n",
    "    \"wangwu\": 31\n",
    "}\n",
    "s_key = [key for key, value in s.items()]\n",
    "print(s_key)\n",
    "\n",
    "# key 和 value 颠倒\n",
    "s1 = {value: key for key, value in s.items()}\n",
    "print(s1)\n",
    "\n",
    "# 只拿出符合条件的值\n",
    "s2 = {key:value for key, value in s.items() if key != \"lisi\"}\n",
    "print(s2)"
   ]
  },
  {
   "cell_type": "code",
   "execution_count": 1,
   "id": "693e301d",
   "metadata": {},
   "outputs": [],
   "source": [
    "### 闭包: 一个返回值是函数的函数"
   ]
  },
  {
   "cell_type": "code",
   "execution_count": 4,
   "id": "9688373f",
   "metadata": {},
   "outputs": [
    {
     "name": "stdout",
     "output_type": "stream",
     "text": [
      "1681186754.4956548\n"
     ]
    }
   ],
   "source": [
    "# 调用后打印当前的时间\n",
    "import time \n",
    "def runtime():\n",
    "    def now_time():\n",
    "        print(time.time())\n",
    "    return now_time\n",
    "f = runtime() -> \n",
    "f()"
   ]
  },
  {
   "cell_type": "code",
   "execution_count": 5,
   "id": "80167fcc",
   "metadata": {},
   "outputs": [],
   "source": [
    "cat data.csv"
   ]
  },
  {
   "cell_type": "code",
   "execution_count": 7,
   "id": "afc75263",
   "metadata": {},
   "outputs": [
    {
     "name": "stdout",
     "output_type": "stream",
     "text": [
      "[]\n"
     ]
    }
   ],
   "source": [
    "# 读出一个文件中带有某个关键字的行\n",
    "def make_filter(keep):\n",
    "    def the_filter(file_name):\n",
    "        file = open(file_name)\n",
    "        lines = file.readlines()\n",
    "        file.close()\n",
    "        filter_doc = [i for i in lines if keep in i]\n",
    "        return filter_doc\n",
    "    return the_filter\n",
    "\n",
    "filter_1 = make_filter(\"8\")\n",
    "filter_result = filter_1(\"data.csv\")\n",
    "print(filter_result)\n"
   ]
  },
  {
   "cell_type": "code",
   "execution_count": 8,
   "id": "b1f895bd",
   "metadata": {},
   "outputs": [],
   "source": [
    "### 装饰器 -> 语法糖 或者 注解"
   ]
  },
  {
   "cell_type": "code",
   "execution_count": 10,
   "id": "11bdf6d3",
   "metadata": {},
   "outputs": [
    {
     "name": "stdout",
     "output_type": "stream",
     "text": [
      "Time Run\n",
      "1681187259.976846\n"
     ]
    }
   ],
   "source": [
    "# 获取函数运行的时间\n",
    "import time \n",
    "def runtime(func):\n",
    "    def get_time():\n",
    "        print(time.time())\n",
    "        func()\n",
    "    return get_time\n",
    "\n",
    "@runtime\n",
    "def time_run():\n",
    "    print(\"Time Run\")\n",
    "time_run()"
   ]
  },
  {
   "cell_type": "code",
   "execution_count": null,
   "id": "40162631",
   "metadata": {},
   "outputs": [],
   "source": []
  }
 ],
 "metadata": {
  "kernelspec": {
   "display_name": "Python 3 (ipykernel)",
   "language": "python",
   "name": "python3"
  },
  "language_info": {
   "codemirror_mode": {
    "name": "ipython",
    "version": 3
   },
   "file_extension": ".py",
   "mimetype": "text/x-python",
   "name": "python",
   "nbconvert_exporter": "python",
   "pygments_lexer": "ipython3",
   "version": "3.9.6"
  }
 },
 "nbformat": 4,
 "nbformat_minor": 5
}
