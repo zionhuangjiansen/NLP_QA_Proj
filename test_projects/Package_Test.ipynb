{
 "cells": [
  {
   "cell_type": "code",
   "execution_count": 1,
   "id": "a49c8ff2",
   "metadata": {},
   "outputs": [
    {
     "name": "stdout",
     "output_type": "stream",
     "text": [
      "[1 2 3 4 5]\n",
      "[[1 2 3]\n",
      " [4 5 6]\n",
      " [7 8 9]]\n",
      "[3 4 5 6 7]\n",
      "[[ 3  6  9]\n",
      " [12 15 18]\n",
      " [21 24 27]]\n"
     ]
    }
   ],
   "source": [
    "import numpy as np\n",
    "\n",
    "# create a 1D array\n",
    "a = np.array([1, 2, 3, 4, 5])\n",
    "\n",
    "# create a 2D array\n",
    "b = np.array([[1, 2, 3], [4, 5, 6], [7, 8, 9]])\n",
    "\n",
    "# perform basic array operations\n",
    "c = a + 2\n",
    "d = b * 3\n",
    "\n",
    "# print the arrays and the results of the operations\n",
    "print(a)\n",
    "print(b)\n",
    "print(c)\n",
    "print(d)\n"
   ]
  },
  {
   "cell_type": "code",
   "execution_count": 2,
   "id": "4f8c6dba",
   "metadata": {},
   "outputs": [
    {
     "name": "stdout",
     "output_type": "stream",
     "text": [
      "      name  age country\n",
      "0    Alice   25     USA\n",
      "1      Bob   32  Canada\n",
      "2  Charlie   18     USA\n",
      "3    David   47     USA\n",
      "      name  age country  age_squared\n",
      "0    Alice   25     USA          625\n",
      "1      Bob   32  Canada         1024\n",
      "2  Charlie   18     USA          324\n",
      "3    David   47     USA         2209\n",
      "30.5\n"
     ]
    }
   ],
   "source": [
    "import pandas as pd\n",
    "\n",
    "# create a DataFrame from a dictionary\n",
    "data = {'name': ['Alice', 'Bob', 'Charlie', 'David'],\n",
    "        'age': [25, 32, 18, 47],\n",
    "        'country': ['USA', 'Canada', 'USA', 'USA']}\n",
    "df = pd.DataFrame(data)\n",
    "\n",
    "# print the DataFrame\n",
    "print(df)\n",
    "\n",
    "# perform basic data manipulation operations\n",
    "mean_age = df['age'].mean()\n",
    "df['age_squared'] = df['age'] ** 2\n",
    "\n",
    "# print the updated DataFrame and the mean age\n",
    "print(df)\n",
    "print(mean_age)\n"
   ]
  },
  {
   "cell_type": "code",
   "execution_count": null,
   "id": "113587a6",
   "metadata": {},
   "outputs": [],
   "source": []
  }
 ],
 "metadata": {
  "kernelspec": {
   "display_name": "Python 3 (ipykernel)",
   "language": "python",
   "name": "python3"
  },
  "language_info": {
   "codemirror_mode": {
    "name": "ipython",
    "version": 3
   },
   "file_extension": ".py",
   "mimetype": "text/x-python",
   "name": "python",
   "nbconvert_exporter": "python",
   "pygments_lexer": "ipython3",
   "version": "3.9.7"
  }
 },
 "nbformat": 4,
 "nbformat_minor": 5
}
